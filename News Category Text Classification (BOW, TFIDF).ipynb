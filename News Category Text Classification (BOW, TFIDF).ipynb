{
 "cells": [
  {
   "cell_type": "markdown",
   "metadata": {},
   "source": [
    "## Introduction\n",
    "\n",
    "This notebook will document a small NLP project on classifying News articles into 31 different categories, from Politics, to Sport, to Religion etc. The source of news headlines and short descriptions is HuffPost and the dataset was downloaded from: https://www.kaggle.com/rmisra/news-category-dataset/downloads/news-category-dataset.zip/2. I will use pre-processing techniques such as tokenisation, stemming and stopword removal, and in regard to modelling, I will use bag of words, TF-IDF. I will use SVM and Naive Bayes to build the supervised learning model on those features.\n",
    "\n",
    "In the next notebooks, I will do a follow-up and try to use word embeddings such as Word2vec, Glove, and doc2vec, and try to go even further using RNNs.\n",
    "\n",
    "Note: a key problem with this project is that there is little benchmarks on Kaggle. I might switch over to another dataset that has more benchmarks to test my project against\n",
    "Note2: a mistake I made in this project was not splitting train and test BEFORE I started anything else. Due to some words not existing in the word embedding corpus this may have changed my tran/test split for the word embeddings section."
   ]
  },
  {
   "cell_type": "code",
   "execution_count": 16,
   "metadata": {},
   "outputs": [],
   "source": [
    "import nltk\n",
    "from sklearn.multiclass import OneVsRestClassifier\n",
    "from sklearn.svm import LinearSVC\n",
    "from sklearn.linear_model import LogisticRegression\n",
    "from sklearn.model_selection import train_test_split\n",
    "import pandas as pd\n",
    "import numpy as np\n",
    "import matplotlib as plt\n",
    "import pickle\n",
    "\n"
   ]
  },
  {
   "cell_type": "markdown",
   "metadata": {},
   "source": [
    "## Exploratory Analysis and Data Cleaning"
   ]
  },
  {
   "cell_type": "code",
   "execution_count": 2,
   "metadata": {},
   "outputs": [
    {
     "data": {
      "text/html": [
       "<div>\n",
       "<style scoped>\n",
       "    .dataframe tbody tr th:only-of-type {\n",
       "        vertical-align: middle;\n",
       "    }\n",
       "\n",
       "    .dataframe tbody tr th {\n",
       "        vertical-align: top;\n",
       "    }\n",
       "\n",
       "    .dataframe thead th {\n",
       "        text-align: right;\n",
       "    }\n",
       "</style>\n",
       "<table border=\"1\" class=\"dataframe\">\n",
       "  <thead>\n",
       "    <tr style=\"text-align: right;\">\n",
       "      <th></th>\n",
       "      <th>authors</th>\n",
       "      <th>category</th>\n",
       "      <th>date</th>\n",
       "      <th>headline</th>\n",
       "      <th>link</th>\n",
       "      <th>short_description</th>\n",
       "    </tr>\n",
       "  </thead>\n",
       "  <tbody>\n",
       "    <tr>\n",
       "      <th>0</th>\n",
       "      <td>Melissa Jeltsen</td>\n",
       "      <td>CRIME</td>\n",
       "      <td>2018-05-26</td>\n",
       "      <td>There Were 2 Mass Shootings In Texas Last Week...</td>\n",
       "      <td>https://www.huffingtonpost.com/entry/texas-ama...</td>\n",
       "      <td>She left her husband. He killed their children...</td>\n",
       "    </tr>\n",
       "    <tr>\n",
       "      <th>1</th>\n",
       "      <td>Andy McDonald</td>\n",
       "      <td>ENTERTAINMENT</td>\n",
       "      <td>2018-05-26</td>\n",
       "      <td>Will Smith Joins Diplo And Nicky Jam For The 2...</td>\n",
       "      <td>https://www.huffingtonpost.com/entry/will-smit...</td>\n",
       "      <td>Of course it has a song.</td>\n",
       "    </tr>\n",
       "    <tr>\n",
       "      <th>2</th>\n",
       "      <td>Ron Dicker</td>\n",
       "      <td>ENTERTAINMENT</td>\n",
       "      <td>2018-05-26</td>\n",
       "      <td>Hugh Grant Marries For The First Time At Age 57</td>\n",
       "      <td>https://www.huffingtonpost.com/entry/hugh-gran...</td>\n",
       "      <td>The actor and his longtime girlfriend Anna Ebe...</td>\n",
       "    </tr>\n",
       "    <tr>\n",
       "      <th>3</th>\n",
       "      <td>Ron Dicker</td>\n",
       "      <td>ENTERTAINMENT</td>\n",
       "      <td>2018-05-26</td>\n",
       "      <td>Jim Carrey Blasts 'Castrato' Adam Schiff And D...</td>\n",
       "      <td>https://www.huffingtonpost.com/entry/jim-carre...</td>\n",
       "      <td>The actor gives Dems an ass-kicking for not fi...</td>\n",
       "    </tr>\n",
       "    <tr>\n",
       "      <th>4</th>\n",
       "      <td>Ron Dicker</td>\n",
       "      <td>ENTERTAINMENT</td>\n",
       "      <td>2018-05-26</td>\n",
       "      <td>Julianna Margulies Uses Donald Trump Poop Bags...</td>\n",
       "      <td>https://www.huffingtonpost.com/entry/julianna-...</td>\n",
       "      <td>The \"Dietland\" actress said using the bags is ...</td>\n",
       "    </tr>\n",
       "  </tbody>\n",
       "</table>\n",
       "</div>"
      ],
      "text/plain": [
       "           authors       category       date  \\\n",
       "0  Melissa Jeltsen          CRIME 2018-05-26   \n",
       "1    Andy McDonald  ENTERTAINMENT 2018-05-26   \n",
       "2       Ron Dicker  ENTERTAINMENT 2018-05-26   \n",
       "3       Ron Dicker  ENTERTAINMENT 2018-05-26   \n",
       "4       Ron Dicker  ENTERTAINMENT 2018-05-26   \n",
       "\n",
       "                                            headline  \\\n",
       "0  There Were 2 Mass Shootings In Texas Last Week...   \n",
       "1  Will Smith Joins Diplo And Nicky Jam For The 2...   \n",
       "2    Hugh Grant Marries For The First Time At Age 57   \n",
       "3  Jim Carrey Blasts 'Castrato' Adam Schiff And D...   \n",
       "4  Julianna Margulies Uses Donald Trump Poop Bags...   \n",
       "\n",
       "                                                link  \\\n",
       "0  https://www.huffingtonpost.com/entry/texas-ama...   \n",
       "1  https://www.huffingtonpost.com/entry/will-smit...   \n",
       "2  https://www.huffingtonpost.com/entry/hugh-gran...   \n",
       "3  https://www.huffingtonpost.com/entry/jim-carre...   \n",
       "4  https://www.huffingtonpost.com/entry/julianna-...   \n",
       "\n",
       "                                   short_description  \n",
       "0  She left her husband. He killed their children...  \n",
       "1                           Of course it has a song.  \n",
       "2  The actor and his longtime girlfriend Anna Ebe...  \n",
       "3  The actor gives Dems an ass-kicking for not fi...  \n",
       "4  The \"Dietland\" actress said using the bags is ...  "
      ]
     },
     "execution_count": 2,
     "metadata": {},
     "output_type": "execute_result"
    }
   ],
   "source": [
    "df = pd.read_json('data/News_Category_Dataset_v2.json', lines=True)\n",
    "df.head()"
   ]
  },
  {
   "cell_type": "code",
   "execution_count": 3,
   "metadata": {},
   "outputs": [
    {
     "data": {
      "text/plain": [
       "(200853, 6)"
      ]
     },
     "execution_count": 3,
     "metadata": {},
     "output_type": "execute_result"
    }
   ],
   "source": [
    "# Over 200k news articles\n",
    "df.shape"
   ]
  },
  {
   "cell_type": "markdown",
   "metadata": {},
   "source": [
    "How many categories and how many articles in each category are there in the dataset?"
   ]
  },
  {
   "cell_type": "code",
   "execution_count": 4,
   "metadata": {},
   "outputs": [
    {
     "name": "stdout",
     "output_type": "stream",
     "text": [
      "Number of Categories 41\n"
     ]
    }
   ],
   "source": [
    "print('Number of Categories',df.groupby('category').ngroups)"
   ]
  },
  {
   "cell_type": "code",
   "execution_count": 5,
   "metadata": {},
   "outputs": [
    {
     "data": {
      "text/plain": [
       "category\n",
       "POLITICS          32739\n",
       "WELLNESS          17827\n",
       "ENTERTAINMENT     16058\n",
       "TRAVEL             9887\n",
       "STYLE & BEAUTY     9649\n",
       "PARENTING          8677\n",
       "HEALTHY LIVING     6694\n",
       "QUEER VOICES       6314\n",
       "FOOD & DRINK       6226\n",
       "BUSINESS           5937\n",
       "COMEDY             5175\n",
       "SPORTS             4884\n",
       "BLACK VOICES       4528\n",
       "HOME & LIVING      4195\n",
       "PARENTS            3955\n",
       "THE WORLDPOST      3664\n",
       "WEDDINGS           3651\n",
       "WOMEN              3490\n",
       "IMPACT             3459\n",
       "DIVORCE            3426\n",
       "CRIME              3405\n",
       "MEDIA              2815\n",
       "WEIRD NEWS         2670\n",
       "GREEN              2622\n",
       "WORLDPOST          2579\n",
       "RELIGION           2556\n",
       "STYLE              2254\n",
       "SCIENCE            2178\n",
       "WORLD NEWS         2177\n",
       "TASTE              2096\n",
       "TECH               2082\n",
       "MONEY              1707\n",
       "ARTS               1509\n",
       "FIFTY              1401\n",
       "GOOD NEWS          1398\n",
       "ARTS & CULTURE     1339\n",
       "ENVIRONMENT        1323\n",
       "COLLEGE            1144\n",
       "LATINO VOICES      1129\n",
       "CULTURE & ARTS     1030\n",
       "EDUCATION          1004\n",
       "dtype: int64"
      ]
     },
     "execution_count": 5,
     "metadata": {},
     "output_type": "execute_result"
    }
   ],
   "source": [
    "df.groupby('category').size().sort_values(ascending=False)"
   ]
  },
  {
   "cell_type": "code",
   "execution_count": 6,
   "metadata": {},
   "outputs": [
    {
     "data": {
      "text/plain": [
       "<matplotlib.axes._subplots.AxesSubplot at 0x23ab7f70780>"
      ]
     },
     "execution_count": 6,
     "metadata": {},
     "output_type": "execute_result"
    }
   ],
   "source": [
    "df.groupby('category').size().sort_values(ascending=False).plot.bar()"
   ]
  },
  {
   "cell_type": "markdown",
   "metadata": {},
   "source": [
    "We can see there's alot of small categories, so lets see if we can group up similar categories and see if its better. For example:\n",
    "- Parenting vs Parents\n",
    "- Arts & Culture vs Culture & Arts vs Arts\n",
    "- Education vs College\n",
    "- Environment vs Green\n",
    "- Style vs Style & beauty"
   ]
  },
  {
   "cell_type": "code",
   "execution_count": 7,
   "metadata": {},
   "outputs": [],
   "source": [
    "df['category'] = np.where(df['category'] == 'PARENTS', 'PARENTING', df['category'])\n",
    "df['category'] = np.where(df['category'].str.contains('ARTS'), 'ARTS', df['category'])\n",
    "df['category'] = np.where(df['category'] == \"COLLEGE\", 'EDUCATION', df['category'])\n",
    "df['category'] = np.where(df['category'] == \"GREEN\", 'ENVIRONMENT', df['category'])\n",
    "df['category'] = np.where(df['category'] == \"STYLE\", 'STYLE & BEAUTY', df['category'])\n",
    "df['category'] = np.where(df['category'] == \"TASTE\", 'FOOD & DRINK', df['category'])\n",
    "df['category'] = np.where(df['category'].str.contains(\"WORLDPOST\"), 'WORLD NEWS', df['category'])\n"
   ]
  },
  {
   "cell_type": "code",
   "execution_count": 8,
   "metadata": {},
   "outputs": [
    {
     "data": {
      "text/plain": [
       "category\n",
       "POLITICS          32739\n",
       "WELLNESS          17827\n",
       "ENTERTAINMENT     16058\n",
       "PARENTING         12632\n",
       "STYLE & BEAUTY    11903\n",
       "TRAVEL             9887\n",
       "WORLD NEWS         8420\n",
       "FOOD & DRINK       8322\n",
       "HEALTHY LIVING     6694\n",
       "QUEER VOICES       6314\n",
       "BUSINESS           5937\n",
       "COMEDY             5175\n",
       "SPORTS             4884\n",
       "BLACK VOICES       4528\n",
       "HOME & LIVING      4195\n",
       "ENVIRONMENT        3945\n",
       "ARTS               3878\n",
       "WEDDINGS           3651\n",
       "WOMEN              3490\n",
       "IMPACT             3459\n",
       "DIVORCE            3426\n",
       "CRIME              3405\n",
       "MEDIA              2815\n",
       "WEIRD NEWS         2670\n",
       "RELIGION           2556\n",
       "SCIENCE            2178\n",
       "EDUCATION          2148\n",
       "TECH               2082\n",
       "MONEY              1707\n",
       "FIFTY              1401\n",
       "GOOD NEWS          1398\n",
       "LATINO VOICES      1129\n",
       "dtype: int64"
      ]
     },
     "execution_count": 8,
     "metadata": {},
     "output_type": "execute_result"
    }
   ],
   "source": [
    "df.groupby('category').size().sort_values(ascending=False)"
   ]
  },
  {
   "cell_type": "markdown",
   "metadata": {},
   "source": [
    "Reduced down to 32 categories. Might be hard to classify the rarer categories, but we'll try for now. We might just try the 10 categories with most articles"
   ]
  },
  {
   "cell_type": "code",
   "execution_count": 9,
   "metadata": {},
   "outputs": [],
   "source": [
    "categories = df.groupby('category').size().sort_values(ascending=False).reset_index(name='count')\n",
    "df = df[ df['category'].isin(categories.iloc[:10,0])]"
   ]
  },
  {
   "cell_type": "code",
   "execution_count": 10,
   "metadata": {},
   "outputs": [
    {
     "data": {
      "text/plain": [
       "{'ENTERTAINMENT',\n",
       " 'FOOD & DRINK',\n",
       " 'HEALTHY LIVING',\n",
       " 'PARENTING',\n",
       " 'POLITICS',\n",
       " 'QUEER VOICES',\n",
       " 'STYLE & BEAUTY',\n",
       " 'TRAVEL',\n",
       " 'WELLNESS',\n",
       " 'WORLD NEWS'}"
      ]
     },
     "execution_count": 10,
     "metadata": {},
     "output_type": "execute_result"
    }
   ],
   "source": [
    "set(df['category'])"
   ]
  },
  {
   "cell_type": "markdown",
   "metadata": {},
   "source": [
    "Lets join the headline with the description, separated by a space, since both of them will contain useful information."
   ]
  },
  {
   "cell_type": "code",
   "execution_count": 11,
   "metadata": {},
   "outputs": [],
   "source": [
    "df['fulltext'] = df['headline'] + ' ' + df['short_description']"
   ]
  },
  {
   "cell_type": "code",
   "execution_count": 12,
   "metadata": {},
   "outputs": [
    {
     "data": {
      "text/plain": [
       "\"Will Smith Joins Diplo And Nicky Jam For The 2018 World Cup's Official Song Of course it has a song.\""
      ]
     },
     "execution_count": 12,
     "metadata": {},
     "output_type": "execute_result"
    }
   ],
   "source": [
    "df.iloc[0,-1]"
   ]
  },
  {
   "cell_type": "markdown",
   "metadata": {},
   "source": [
    "Create column for number of words in each text"
   ]
  },
  {
   "cell_type": "code",
   "execution_count": 13,
   "metadata": {},
   "outputs": [],
   "source": [
    "df['count_words'] = df['fulltext'].str.split().str.len()"
   ]
  },
  {
   "cell_type": "markdown",
   "metadata": {},
   "source": [
    "How do number of words vary by category? What is the mean number of words for each category?\n",
    "- there doesn't seem to be a huge variation in number of words in each text for different categories\n",
    "- 'FIFTY' seems a bit of an outlier?"
   ]
  },
  {
   "cell_type": "code",
   "execution_count": 14,
   "metadata": {
    "scrolled": true
   },
   "outputs": [
    {
     "data": {
      "text/plain": [
       "<matplotlib.axes._subplots.AxesSubplot at 0x23ad007e5f8>"
      ]
     },
     "execution_count": 14,
     "metadata": {},
     "output_type": "execute_result"
    },
    {
     "data": {
      "image/png": "[encoded data removed]",
      "text/plain": [
       "<Figure size 432x288 with 1 Axes>"
      ]
     },
     "metadata": {
      "needs_background": "light"
     },
     "output_type": "display_data"
    }
   ],
   "source": [
    "df[['category','count_words']].groupby('category')['count_words'].median().plot.bar(y='count_words')"
   ]
  },
  {
   "cell_type": "markdown",
   "metadata": {},
   "source": [
    "## Train Test Split\n",
    "I will do the train/test split before I do anything further since I need to have a consistent train and test set between all my experiments."
   ]
  },
  {
   "cell_type": "code",
   "execution_count": 17,
   "metadata": {},
   "outputs": [],
   "source": [
    "# Convert to Lowercase\n",
    "df['fulltext_processed'] = df['fulltext'].str.lower()\n",
    "\n",
    "X_train, X_test, y_train, y_test = train_test_split(df['fulltext_processed'], df['category'], test_size=0.2, random_state=0)"
   ]
  },
  {
   "cell_type": "code",
   "execution_count": 18,
   "metadata": {},
   "outputs": [],
   "source": [
    "# import pickle\n",
    "# # Save the Train and Test Sets in one group\n",
    "# with open('data/traintest.pickle', 'wb') as f:\n",
    "#     pickle.dump((X_train, X_test, y_train, y_test), f)"
   ]
  },
  {
   "cell_type": "code",
   "execution_count": 17,
   "metadata": {},
   "outputs": [],
   "source": [
    "with open('data/traintest.pickle', 'rb') as f:\n",
    "     X_train, X_test, y_train, y_test = pickle.load(f)"
   ]
  },
  {
   "cell_type": "markdown",
   "metadata": {},
   "source": [
    "## Data Processing\n",
    "- Data processing involves doing:\n",
    "    - tokenisation\n",
    "    - stemming or lemmatization\n",
    "    - removing stop words\n",
    "    - removing numeric text and punctation\n",
    "    - remove blanks and convert to lowercase\n",
    "- Instead of NLTK, I might use scikit learn's automatic processing methods, which does it all automatically out of the box"
   ]
  },
  {
   "cell_type": "code",
   "execution_count": 18,
   "metadata": {},
   "outputs": [],
   "source": [
    "from nltk.tokenize import word_tokenize,RegexpTokenizer\n",
    "from nltk.corpus import stopwords\n",
    "from nltk.stem import WordNetLemmatizer, PorterStemmer\n",
    "from nltk.corpus import wordnet as wn\n",
    "from sklearn.feature_extraction.text import TfidfVectorizer\n",
    "from sklearn.feature_extraction.text import CountVectorizer\n",
    "from sklearn.model_selection import train_test_split\n",
    "from sklearn.naive_bayes import MultinomialNB\n",
    "from sklearn.metrics import classification_report, confusion_matrix, accuracy_score\n",
    "from sklearn.svm import LinearSVC\n",
    "from sklearn import preprocessing"
   ]
  },
  {
   "cell_type": "markdown",
   "metadata": {},
   "source": [
    "Tokenising and stopwords are all done automatically in the countVectoriser method"
   ]
  },
  {
   "cell_type": "code",
   "execution_count": 20,
   "metadata": {},
   "outputs": [],
   "source": [
    "# # Tokenise words\n",
    "# tokens_train = X_train.apply(word_tokenize)\n",
    "\n",
    "# tokens_test = X_test.apply(word_tokenize)\n"
   ]
  },
  {
   "cell_type": "code",
   "execution_count": 21,
   "metadata": {},
   "outputs": [],
   "source": [
    "# # Stopwords\n",
    "# stop_words = set(stopwords.words('english'))\n",
    "\n",
    "# def remove_stopwords(tokens):\n",
    "\n",
    "#     text_nostopwords = []\n",
    "#     for sentence in df[\"fulltext_processed\"]:\n",
    "#         removed_sent = ' '.join([word for word in sentence.split() if word not in stop_words])\n",
    "#         text_nostopwords.append(removed_sent)\n",
    "\n",
    "#     return text_nostopwords\n",
    "\n",
    "# Note this is already done in the sklearn countvectoriser"
   ]
  },
  {
   "cell_type": "markdown",
   "metadata": {},
   "source": [
    "## Bag of Words"
   ]
  },
  {
   "cell_type": "code",
   "execution_count": 22,
   "metadata": {},
   "outputs": [],
   "source": [
    "# Maximum 1500 features and the words must have appeared in at least 10 texts\n",
    "vectorizer1 = CountVectorizer(max_features=1500,min_df=5,max_df=0.7, stop_words=stopwords.words('english'))\n",
    "X_train_counts = vectorizer1.fit_transform(X_train)\n",
    "\n",
    "X_test_counts = vectorizer1.transform(X_test)\n"
   ]
  },
  {
   "cell_type": "code",
   "execution_count": 23,
   "metadata": {},
   "outputs": [
    {
     "name": "stdout",
     "output_type": "stream",
     "text": [
      "['000', '10', '100', '11', '12', '13', '14', '15', '16', '17', '18', '19', '20', '2012', '2013', '2014', '2015', '2016', '2017', '21', '24', '25', '30', '40', '50', 'ability', 'able', 'abortion', 'absolutely', 'abuse', 'accept', 'access', 'according', 'accused', 'across', 'act', 'action', 'actions', 'activists', 'actor', 'actress', 'actually', 'ad', 'add', 'addiction', 'address', 'administration', 'adorable', 'adult', 'adults', 'advice', 'affordable', 'afraid', 'africa', 'age', 'agency', 'ago', 'agree', 'ahead', 'air', 'airlines', 'airport', 'al', 'album', 'allegations', 'allow', 'almost', 'alone', 'along', 'already', 'also', 'although', 'always', 'amazing', 'america', 'american', 'americans', 'amid', 'among', 'anniversary', 'announced', 'annual', 'another', 'answer', 'anti', 'anxiety', 'anyone', 'anything', 'apparently', 'appears', 'approach', 'april', 'area', 'around', 'art', 'article', 'artist', 'ask', 'asked', 'asking', 'assault', 'attack', 'attacks', 'attention', 'attorney', 'author', 'autism', 'avoid', 'award', 'awards', 'awareness', 'away', 'awesome', 'babies', 'baby', 'back', 'bad', 'balance', 'ban', 'band', 'bar', 'barack', 'bars', 'based', 'battle', 'beach', 'beat', 'beautiful', 'beauty', 'became', 'become', 'becomes', 'becoming', 'bed', 'beer', 'began', 'begin', 'beginning', 'behavior', 'behind', 'believe', 'ben', 'benefit', 'benefits', 'bernie', 'best', 'better', 'beyond', 'biden', 'big', 'biggest', 'bill', 'birth', 'birthday', 'bit', 'black', 'blame', 'blood', 'blue', 'board', 'body', 'book', 'books', 'border', 'born', 'bowl', 'box', 'boy', 'boys', 'brain', 'brand', 'break', 'breakfast', 'breaking', 'breast', 'breastfeeding', 'bring', 'brings', 'british', 'brother', 'brought', 'brown', 'budget', 'build', 'building', 'bush', 'business', 'busy', 'buy', 'cake', 'california', 'call', 'called', 'calling', 'calls', 'came', 'camp', 'campaign', 'cancer', 'candidate', 'candidates', 'cannot', 'car', 'care', 'career', 'carolina', 'carpet', 'case', 'cases', 'cast', 'caught', 'cause', 'celebrate', 'celebrities', 'celebrity', 'center', 'central', 'century', 'certain', 'certainly', 'challenge', 'challenges', 'chance', 'change', 'changed', 'changes', 'changing', 'character', 'check', 'cheese', 'chicago', 'chicken', 'chief', 'child', 'childhood', 'children', 'china', 'chinese', 'chocolate', 'choice', 'choices', 'choose', 'chris', 'christmas', 'cities', 'citizens', 'city', 'civil', 'claim', 'claims', 'class', 'classic', 'clean', 'clear', 'click', 'climate', 'clinton', 'close', 'clothes', 'clothing', 'co', 'coast', 'coffee', 'cold', 'collection', 'college', 'color', 'com', 'come', 'comes', 'comey', 'coming', 'comments', 'committee', 'common', 'community', 'companies', 'company', 'completely', 'conflict', 'congress', 'congressional', 'congressman', 'connected', 'conservative', 'consider', 'continue', 'continues', 'control', 'controversial', 'convention', 'conversation', 'cook', 'cooking', 'cool', 'cost', 'could', 'countries', 'country', 'couple', 'course', 'court', 'cover', 'crazy', 'cream', 'create', 'created', 'creating', 'creative', 'crime', 'crisis', 'cruise', 'cruz', 'culture', 'current', 'cut', 'cute', 'dad', 'dads', 'daily', 'dance', 'dangerous', 'dark', 'data', 'date', 'dating', 'daughter', 'david', 'day', 'days', 'de', 'dead', 'deadly', 'deal', 'dear', 'death', 'debate', 'decades', 'decided', 'decision', 'deep', 'defense', 'definitely', 'delicious', 'democracy', 'democrat', 'democratic', 'democrats', 'department', 'depression', 'designer', 'despite', 'destinations', 'diabetes', 'die', 'died', 'diet', 'difference', 'different', 'difficult', 'dinner', 'director', 'disease', 'dishes', 'disney', 'disorder', 'doctor', 'doctors', 'dog', 'donald', 'done', 'doubt', 'dr', 'drag', 'dream', 'dreams', 'dress', 'dressed', 'drink', 'drinking', 'drug', 'drugs', 'due', 'earlier', 'early', 'earth', 'easier', 'east', 'easy', 'eat', 'eating', 'economic', 'economy', 'education', 'effect', 'effective', 'effects', 'effort', 'efforts', 'eight', 'either', 'elect', 'election', 'elizabeth', 'else', 'email', 'embrace', 'emotional', 'end', 'energy', 'enjoy', 'enough', 'entire', 'episode', 'equality', 'era', 'especially', 'europe', 'european', 'even', 'event', 'events', 'ever', 'every', 'everyone', 'everything', 'everywhere', 'evidence', 'evolution', 'ex', 'exactly', 'executive', 'exercise', 'expect', 'expected', 'experience', 'experiences', 'experts', 'explain', 'explains', 'extra', 'eye', 'eyes', 'face', 'facebook', 'faces', 'facing', 'fact', 'facts', 'failed', 'failure', 'fair', 'fake', 'fall', 'families', 'family', 'famous', 'fan', 'fans', 'far', 'fashion', 'fast', 'fat', 'father', 'favorite', 'fbi', 'fear', 'fears', 'federal', 'feel', 'feeling', 'feelings', 'feels', 'felt', 'female', 'festival', 'fight', 'fighting', 'filled', 'film', 'final', 'finally', 'find', 'finding', 'finds', 'fine', 'fire', 'first', 'fit', 'fitness', 'five', 'fix', 'flight', 'florida', 'flu', 'focus', 'follow', 'following', 'food', 'foods', 'force', 'forces', 'foreign', 'forever', 'forget', 'form', 'former', 'forward', 'found', 'four', 'fox', 'france', 'free', 'freedom', 'french', 'fresh', 'friday', 'friend', 'friendly', 'friends', 'front', 'full', 'fun', 'future', 'game', 'games', 'gave', 'gay', 'gender', 'general', 'generation', 'george', 'get', 'gets', 'getting', 'gift', 'gifts', 'girl', 'girls', 'give', 'given', 'gives', 'giving', 'global', 'go', 'goal', 'goals', 'god', 'goes', 'going', 'gold', 'golden', 'gone', 'good', 'gop', 'gorgeous', 'got', 'government', 'governor', 'gps', 'great', 'greater', 'greatest', 'green', 'ground', 'group', 'groups', 'grow', 'growing', 'guide', 'gun', 'guns', 'guy', 'guys', 'habits', 'hair', 'half', 'halloween', 'hand', 'hands', 'happen', 'happened', 'happens', 'happiness', 'happy', 'hard', 'harry', 'hate', 'head', 'health', 'healthier', 'healthy', 'hear', 'heard', 'hearing', 'heart', 'held', 'hell', 'help', 'helped', 'helping', 'helps', 'high', 'higher', 'hilarious', 'hill', 'hillary', 'historic', 'history', 'hit', 'hits', 'hiv', 'hold', 'holiday', 'holidays', 'hollywood', 'home', 'honor', 'hope', 'hopes', 'hospital', 'host', 'hot', 'hotel', 'hotels', 'hour', 'hours', 'house', 'however', 'huffpost', 'huffpoststyle', 'huge', 'human', 'hundreds', 'hurt', 'husband', 'ice', 'idea', 'ideas', 'illness', 'images', 'imagine', 'immigrants', 'immigration', 'impact', 'important', 'improve', 'include', 'including', 'increase', 'incredible', 'india', 'industry', 'information', 'inner', 'inside', 'inspired', 'instagram', 'instead', 'insurance', 'intelligence', 'interest', 'international', 'internet', 'interview', 'investigation', 'involved', 'iowa', 'iran', 'iraq', 'isis', 'islamic', 'island', 'israel', 'issue', 'issues', 'italian', 'james', 'january', 'jeb', 'jeff', 'jenner', 'jennifer', 'jessica', 'jimmy', 'job', 'jobs', 'joe', 'john', 'johnson', 'join', 'jones', 'journal', 'journey', 'joy', 'judge', 'july', 'june', 'justice', 'justin', 'kanye', 'kardashian', 'kate', 'keep', 'keeping', 'keeps', 'kelly', 'key', 'kid', 'kids', 'kill', 'killed', 'killing', 'kim', 'kind', 'king', 'kitchen', 'knew', 'know', 'knowing', 'known', 'knows', 'korea', 'la', 'labor', 'lack', 'lady', 'land', 'large', 'last', 'late', 'later', 'latest', 'law', 'lawmakers', 'laws', 'lawyer', 'lead', 'leader', 'leaders', 'leading', 'learn', 'learned', 'learning', 'least', 'leave', 'leaving', 'led', 'left', 'legacy', 'legal', 'lesbian', 'less', 'lessons', 'let', 'letter', 'level', 'lgbt', 'lgbtq', 'life', 'light', 'like', 'likely', 'line', 'lines', 'linked', 'list', 'listen', 'little', 'live', 'lives', 'living', 'local', 'london', 'long', 'longer', 'look', 'looked', 'looking', 'looks', 'los', 'lose', 'losing', 'loss', 'lost', 'lot', 'love', 'loved', 'loves', 'loving', 'low', 'lower', 'lunch', 'made', 'magazine', 'magic', 'major', 'majority', 'make', 'makes', 'makeup', 'making', 'man', 'many', 'march', 'marco', 'marijuana', 'mark', 'market', 'marriage', 'mass', 'massive', 'matter', 'matters', 'may', 'maybe', 'mayor', 'meal', 'mean', 'meaning', 'means', 'meat', 'media', 'medical', 'medicine', 'meditation', 'meet', 'meeting', 'member', 'members', 'men', 'mental', 'message', 'met', 'mexico', 'michael', 'michelle', 'middle', 'middleton', 'might', 'mike', 'miles', 'miley', 'military', 'million', 'millions', 'mind', 'mindfulness', 'minister', 'minute', 'minutes', 'miss', 'missing', 'mistakes', 'model', 'models', 'modern', 'mom', 'moment', 'moments', 'moms', 'monday', 'money', 'month', 'months', 'moore', 'morning', 'mother', 'mothers', 'move', 'movement', 'movie', 'movies', 'moving', 'much', 'music', 'muslim', 'must', 'name', 'named', 'names', 'nation', 'national', 'natural', 'nature', 'near', 'nearly', 'need', 'needed', 'needs', 'negative', 'netflix', 'network', 'never', 'new', 'news', 'next', 'nice', 'night', 'nominee', 'non', 'normal', 'north', 'note', 'nothing', 'november', 'nuclear', 'number', 'nyc', 'obama', 'obamacare', 'obesity', 'offer', 'offers', 'office', 'official', 'officials', 'often', 'oh', 'oil', 'ok', 'old', 'older', 'one', 'ones', 'online', 'open', 'opening', 'opens', 'opportunity', 'options', 'order', 'oscar', 'oscars', 'others', 'outside', 'paid', 'pain', 'parent', 'parenthood', 'parenting', 'parents', 'paris', 'park', 'part', 'particularly', 'partner', 'party', 'pass', 'past', 'path', 'patient', 'patients', 'paul', 'pay', 'peace', 'people', 'percent', 'perfect', 'performance', 'perhaps', 'perry', 'person', 'personal', 'phone', 'photo', 'photos', 'physical', 'pick', 'picture', 'piece', 'pink', 'pinterest', 'pizza', 'place', 'places', 'plan', 'plane', 'planned', 'planning', 'plans', 'play', 'playing', 'please', 'plenty', 'plus', 'point', 'points', 'police', 'policies', 'policy', 'political', 'politics', 'poll', 'polls', 'poor', 'pop', 'popular', 'positive', 'possible', 'post', 'potential', 'pounds', 'power', 'powerful', 'practice', 'pregnancy', 'pregnant', 'present', 'presidency', 'president', 'presidential', 'press', 'pressure', 'pretty', 'prevent', 'price', 'pride', 'primary', 'prime', 'prince', 'princess', 'prison', 'private', 'pro', 'probably', 'probe', 'problem', 'problems', 'process', 'products', 'program', 'project', 'promise', 'protect', 'protest', 'prove', 'provide', 'public', 'published', 'push', 'put', 'putin', 'putting', 'quality', 'queen', 'queer', 'question', 'questions', 'quick', 'quickly', 'quite', 'race', 'raise', 'raising', 'rally', 'rare', 'rate', 'rather', 'reach', 'read', 'reading', 'ready', 'real', 'reality', 'realize', 'really', 'reason', 'reasons', 'recent', 'recently', 'recipe', 'recipes', 'record', 'red', 'reform', 'refugees', 'related', 'relationship', 'relationships', 'release', 'released', 'religious', 'remember', 'rep', 'repeal', 'report', 'reported', 'reportedly', 'reports', 'republican', 'republicans', 'research', 'researchers', 'resolutions', 'respect', 'response', 'responsibility', 'rest', 'restaurant', 'restaurants', 'results', 'return', 'reuters', 'reveals', 'review', 'rich', 'ride', 'right', 'rights', 'rise', 'risk', 'road', 'robert', 'rock', 'role', 'room', 'round', 'roundup', 'routine', 'royal', 'rubio', 'rule', 'rules', 'run', 'running', 'russia', 'russian', 'ryan', 'safe', 'safety', 'said', 'san', 'sanders', 'saturday', 'saudi', 'save', 'saw', 'say', 'saying', 'says', 'scene', 'school', 'schools', 'science', 'scott', 'screen', 'sea', 'season', 'seat', 'second', 'secret', 'secretary', 'secrets', 'security', 'see', 'seeing', 'seek', 'seem', 'seems', 'seen', 'self', 'sen', 'senate', 'senator', 'send', 'sense', 'series', 'serious', 'seriously', 'serve', 'service', 'sessions', 'set', 'seven', 'several', 'sex', 'sexual', 'shape', 'share', 'shares', 'shoes', 'shooting', 'shop', 'shopping', 'short', 'shot', 'show', 'showed', 'shows', 'sick', 'side', 'sign', 'signs', 'silence', 'similar', 'simple', 'simply', 'since', 'singer', 'single', 'sit', 'sitting', 'situation', 'six', 'size', 'skin', 'sleep', 'small', 'social', 'society', 'solution', 'someone', 'something', 'sometimes', 'son', 'song', 'songs', 'soon', 'sorry', 'soul', 'sound', 'sounds', 'south', 'space', 'speak', 'special', 'speech', 'spend', 'spending', 'spent', 'spirit', 'sports', 'spot', 'spring', 'st', 'staff', 'stage', 'stand', 'standing', 'star', 'stars', 'start', 'started', 'starting', 'state', 'statement', 'states', 'stay', 'step', 'steps', 'steve', 'still', 'stop', 'store', 'stories', 'story', 'straight', 'strategy', 'street', 'strength', 'stress', 'strong', 'struggle', 'student', 'students', 'studies', 'study', 'stuff', 'stunning', 'style', 'stylelist', 'success', 'successful', 'sugar', 'suggests', 'suicide', 'summer', 'sun', 'sunday', 'super', 'support', 'supporters', 'supreme', 'sure', 'surprise', 'surprising', 'sweet', 'swift', 'syria', 'syrian', 'system', 'table', 'take', 'taken', 'takes', 'taking', 'talk', 'talking', 'talks', 'taste', 'taught', 'tax', 'taylor', 'tea', 'teach', 'teacher', 'teachers', 'team', 'technology', 'ted', 'teen', 'teens', 'tell', 'telling', 'tells', 'term', 'test', 'texas', 'thank', 'thanks', 'thanksgiving', 'thing', 'things', 'think', 'thinking', 'thinks', 'third', 'though', 'thought', 'thoughts', 'thousands', 'threat', 'three', 'thrones', 'throughout', 'thursday', 'time', 'times', 'tips', 'today', 'toddler', 'together', 'told', 'tom', 'took', 'top', 'totally', 'tough', 'tour', 'toward', 'town', 'track', 'trade', 'trailer', 'train', 'training', 'trans', 'transgender', 'travel', 'travelers', 'traveling', 'treat', 'treatment', 'trend', 'trends', 'tribute', 'tried', 'trip', 'true', 'truly', 'trump', 'trust', 'truth', 'try', 'trying', 'tuesday', 'tumblr', 'turkey', 'turn', 'turned', 'turning', 'turns', 'tv', 'tweet', 'tweets', 'twitter', 'two', 'type', 'ultimate', 'un', 'understand', 'understanding', 'union', 'unique', 'united', 'university', 'update', 'upon', 'us', 'use', 'used', 'using', 'usually', 'vacation', 'valentine', 'version', 'victims', 'victory', 'video', 'view', 'views', 'vintage', 'violence', 'virginia', 'visit', 'vogue', 'voice', 'vote', 'voter', 'voters', 'voting', 'vs', 'wait', 'waiting', 'wake', 'walk', 'walking', 'wall', 'want', 'wanted', 'wants', 'war', 'warm', 'warren', 'wars', 'washington', 'watch', 'watching', 'water', 'way', 'ways', 'wear', 'wearing', 'weather', 'wedding', 'wednesday', 'week', 'weekend', 'weekly', 'weeks', 'weight', 'welcome', 'well', 'went', 'west', 'whatever', 'whether', 'white', 'whole', 'whose', 'wife', 'wild', 'win', 'wine', 'winning', 'wins', 'winter', 'wish', 'within', 'without', 'woman', 'women', 'wonder', 'wonderful', 'word', 'words', 'work', 'workers', 'working', 'workout', 'works', 'world', 'worry', 'worse', 'worst', 'worth', 'would', 'write', 'writing', 'wrong', 'wrote', 'year', 'years', 'yes', 'yet', 'yoga', 'york', 'young', 'youth']\n"
     ]
    }
   ],
   "source": [
    "print(vectorizer1.get_feature_names())"
   ]
  },
  {
   "cell_type": "code",
   "execution_count": 24,
   "metadata": {},
   "outputs": [
    {
     "name": "stdout",
     "output_type": "stream",
     "text": [
      "(104636, 1500)\n",
      "(26160, 1500)\n"
     ]
    }
   ],
   "source": [
    "print(X_train_counts.shape)\n",
    "print(X_test_counts.shape)"
   ]
  },
  {
   "cell_type": "code",
   "execution_count": 25,
   "metadata": {},
   "outputs": [
    {
     "name": "stdout",
     "output_type": "stream",
     "text": [
      "[[0 0 0 ... 0 0 0]\n",
      " [0 0 0 ... 0 0 0]\n",
      " [0 0 0 ... 0 0 0]\n",
      " ...\n",
      " [0 0 0 ... 0 0 0]\n",
      " [0 0 0 ... 0 0 0]\n",
      " [0 0 0 ... 0 0 0]]\n"
     ]
    }
   ],
   "source": [
    "# For each article we have 3000 columns, a count for each word\n",
    "print(X_train_counts.toarray())"
   ]
  },
  {
   "cell_type": "code",
   "execution_count": 31,
   "metadata": {},
   "outputs": [],
   "source": [
    "classifier = MultinomialNB().fit(X_train_counts, y_train)\n",
    "y_pred = classifier.predict(X_test_counts)\n"
   ]
  },
  {
   "cell_type": "code",
   "execution_count": 33,
   "metadata": {},
   "outputs": [
    {
     "name": "stdout",
     "output_type": "stream",
     "text": [
      "confusion matrix: [[2082   68   14  171  369   53  194   92  122   44]\n",
      " [  69 1136    8   51   46    5   61  128  129    8]\n",
      " [  48   62  177  112  102   18   17   50  779   17]\n",
      " [ 127   54   50 1835   45   34   52   68  184   16]\n",
      " [ 226   23   78  111 5267  103   43   91  170  414]\n",
      " [ 138   12   14   68  111  798   22   26   61   22]\n",
      " [ 169   71   15   84   50   23 1763   87  129   12]\n",
      " [  87  124   19   48   63   22   81 1397  120   64]\n",
      " [  81  145  327  205   95   41   45  119 2507   59]\n",
      " [  52   10    6   35  299   26   26   69   63 1027]]\n",
      "classification report:                 precision    recall  f1-score   support\n",
      "\n",
      " ENTERTAINMENT       0.68      0.65      0.66      3209\n",
      "  FOOD & DRINK       0.67      0.69      0.68      1641\n",
      "HEALTHY LIVING       0.25      0.13      0.17      1382\n",
      "     PARENTING       0.67      0.74      0.71      2465\n",
      "      POLITICS       0.82      0.81      0.81      6526\n",
      "  QUEER VOICES       0.71      0.63      0.67      1272\n",
      "STYLE & BEAUTY       0.77      0.73      0.75      2403\n",
      "        TRAVEL       0.66      0.69      0.67      2025\n",
      "      WELLNESS       0.59      0.69      0.64      3624\n",
      "    WORLD NEWS       0.61      0.64      0.62      1613\n",
      "\n",
      "      accuracy                           0.69     26160\n",
      "     macro avg       0.64      0.64      0.64     26160\n",
      "  weighted avg       0.68      0.69      0.68     26160\n",
      "\n",
      "accuracy: 0.6876529051987768\n"
     ]
    }
   ],
   "source": [
    "print('confusion matrix:',confusion_matrix(y_test,y_pred))\n",
    "print('classification report:', classification_report(y_test,y_pred))\n",
    "print('accuracy:',accuracy_score(y_test, y_pred))"
   ]
  },
  {
   "cell_type": "markdown",
   "metadata": {},
   "source": [
    "Using a basic Bag of Words, uni-gram model, we get 69% accuracy. That's not bad, if we guessed everything to be politics only, then accuracy would've been 16%."
   ]
  },
  {
   "cell_type": "markdown",
   "metadata": {},
   "source": [
    "## TF-IDF"
   ]
  },
  {
   "cell_type": "code",
   "execution_count": 34,
   "metadata": {},
   "outputs": [],
   "source": [
    "tfidf_converter = TfidfVectorizer(max_features=1500,min_df=5,max_df=0.7, stop_words=stopwords.words('english'))\n",
    "X_train_tfidf = tfidf_converter.fit_transform(X_train).toarray()\n",
    "X_test_tfidf = tfidf_converter.transform(X_test).toarray() # don't use fit_transform, since we only want to fit on training set, but use the same vectoriser transform on the test"
   ]
  },
  {
   "cell_type": "markdown",
   "metadata": {},
   "source": [
    "Naive Bayes"
   ]
  },
  {
   "cell_type": "code",
   "execution_count": 35,
   "metadata": {},
   "outputs": [
    {
     "name": "stdout",
     "output_type": "stream",
     "text": [
      "confusion matrix: [[2084   36    0  143  541   23  154   61  149   18]\n",
      " [  76 1018    0   55   99    2   59  110  217    5]\n",
      " [  49   40   17   91  182    3   14   28  950    8]\n",
      " [ 148   35    2 1736  118    7   51   48  315    5]\n",
      " [ 149   11    3   69 5860   21   26   50  183  154]\n",
      " [ 173    6    2   80  258  594   24   22  103   10]\n",
      " [ 203   43    0   70   96    6 1735   62  184    4]\n",
      " [ 111   93    1   50  162    5   78 1299  194   32]\n",
      " [  80   83   10  154  224    5   40   69 2938   21]\n",
      " [  61    5    0   25  644    6   23   50   72  727]]\n",
      "classification report:                 precision    recall  f1-score   support\n",
      "\n",
      " ENTERTAINMENT       0.66      0.65      0.66      3209\n",
      "  FOOD & DRINK       0.74      0.62      0.68      1641\n",
      "HEALTHY LIVING       0.49      0.01      0.02      1382\n",
      "     PARENTING       0.70      0.70      0.70      2465\n",
      "      POLITICS       0.72      0.90      0.80      6526\n",
      "  QUEER VOICES       0.88      0.47      0.61      1272\n",
      "STYLE & BEAUTY       0.79      0.72      0.75      2403\n",
      "        TRAVEL       0.72      0.64      0.68      2025\n",
      "      WELLNESS       0.55      0.81      0.66      3624\n",
      "    WORLD NEWS       0.74      0.45      0.56      1613\n",
      "\n",
      "      accuracy                           0.69     26160\n",
      "     macro avg       0.70      0.60      0.61     26160\n",
      "  weighted avg       0.69      0.69      0.67     26160\n",
      "\n",
      "accuracy: 0.6883792048929663\n"
     ]
    }
   ],
   "source": [
    "classifier = MultinomialNB().fit(X_train_tfidf, y_train)\n",
    "y_pred = classifier.predict(X_test_tfidf)\n",
    "print('confusion matrix:',confusion_matrix(y_test,y_pred))\n",
    "print('classification report:', classification_report(y_test,y_pred))\n",
    "print('accuracy:',accuracy_score(y_test, y_pred))"
   ]
  },
  {
   "cell_type": "markdown",
   "metadata": {},
   "source": [
    "SVM"
   ]
  },
  {
   "cell_type": "code",
   "execution_count": 36,
   "metadata": {},
   "outputs": [
    {
     "name": "stdout",
     "output_type": "stream",
     "text": [
      "confusion matrix: [[2273   64   17  133  365   29  126   78   79   45]\n",
      " [ 106 1143   13   35   52    3   57   90  127   15]\n",
      " [ 105   73  145   90  112    7   24   38  762   26]\n",
      " [ 117   35   15 1855   87   10   63   49  225    9]\n",
      " [ 221   26   24   77 5632   48   26   82  148  242]\n",
      " [ 130    8    4   59  129  816   20   23   62   21]\n",
      " [ 193   47   13   49   57   10 1843   65  113   13]\n",
      " [ 114  104   12   36   77   10   78 1402  139   53]\n",
      " [  96  106   56  151  151   20   63   84 2862   35]\n",
      " [  94   14    4   17  356    9   35   62   63  959]]\n",
      "classification report:                 precision    recall  f1-score   support\n",
      "\n",
      " ENTERTAINMENT       0.66      0.71      0.68      3209\n",
      "  FOOD & DRINK       0.71      0.70      0.70      1641\n",
      "HEALTHY LIVING       0.48      0.10      0.17      1382\n",
      "     PARENTING       0.74      0.75      0.75      2465\n",
      "      POLITICS       0.80      0.86      0.83      6526\n",
      "  QUEER VOICES       0.85      0.64      0.73      1272\n",
      "STYLE & BEAUTY       0.79      0.77      0.78      2403\n",
      "        TRAVEL       0.71      0.69      0.70      2025\n",
      "      WELLNESS       0.62      0.79      0.70      3624\n",
      "    WORLD NEWS       0.68      0.59      0.63      1613\n",
      "\n",
      "      accuracy                           0.72     26160\n",
      "     macro avg       0.70      0.66      0.67     26160\n",
      "  weighted avg       0.72      0.72      0.71     26160\n",
      "\n",
      "accuracy: 0.7236238532110092\n"
     ]
    }
   ],
   "source": [
    "classifier = LinearSVC().fit(X_train_tfidf, y_train)\n",
    "y_pred = classifier.predict(X_test_tfidf)\n",
    "print('confusion matrix:',confusion_matrix(y_test,y_pred))\n",
    "print('classification report:', classification_report(y_test,y_pred))\n",
    "print('accuracy:',accuracy_score(y_test, y_pred))"
   ]
  },
  {
   "cell_type": "markdown",
   "metadata": {},
   "source": [
    "Logistic Regression"
   ]
  },
  {
   "cell_type": "code",
   "execution_count": 37,
   "metadata": {},
   "outputs": [
    {
     "name": "stderr",
     "output_type": "stream",
     "text": [
      "C:\\Users\\martin.cheung\\AppData\\Local\\Continuum\\anaconda3\\lib\\site-packages\\sklearn\\linear_model\\logistic.py:432: FutureWarning: Default solver will be changed to 'lbfgs' in 0.22. Specify a solver to silence this warning.\n",
      "  FutureWarning)\n",
      "C:\\Users\\martin.cheung\\AppData\\Local\\Continuum\\anaconda3\\lib\\site-packages\\sklearn\\linear_model\\logistic.py:469: FutureWarning: Default multi_class will be changed to 'auto' in 0.22. Specify the multi_class option to silence this warning.\n",
      "  \"this warning.\", FutureWarning)\n"
     ]
    },
    {
     "name": "stdout",
     "output_type": "stream",
     "text": [
      "confusion matrix: [[2277   48   15  128  395   26  118   75   87   40]\n",
      " [ 109 1120   15   37   61    3   54   89  138   15]\n",
      " [  98   58  155   83  131    7   20   36  770   24]\n",
      " [ 120   30   15 1854   88    8   57   48  239    6]\n",
      " [ 218   17   21   70 5690   42   24   70  152  222]\n",
      " [ 140    7    7   60  142  783   23   20   67   23]\n",
      " [ 207   41   17   45   65    9 1821   63  126    9]\n",
      " [ 122  102   14   38   91    8   74 1386  146   44]\n",
      " [  99   94   60  141  165   17   57   73 2885   33]\n",
      " [  97   13    5   19  381   11   32   61   65  929]]\n",
      "classification report:                 precision    recall  f1-score   support\n",
      "\n",
      " ENTERTAINMENT       0.65      0.71      0.68      3209\n",
      "  FOOD & DRINK       0.73      0.68      0.71      1641\n",
      "HEALTHY LIVING       0.48      0.11      0.18      1382\n",
      "     PARENTING       0.75      0.75      0.75      2465\n",
      "      POLITICS       0.79      0.87      0.83      6526\n",
      "  QUEER VOICES       0.86      0.62      0.72      1272\n",
      "STYLE & BEAUTY       0.80      0.76      0.78      2403\n",
      "        TRAVEL       0.72      0.68      0.70      2025\n",
      "      WELLNESS       0.62      0.80      0.70      3624\n",
      "    WORLD NEWS       0.69      0.58      0.63      1613\n",
      "\n",
      "      accuracy                           0.72     26160\n",
      "     macro avg       0.71      0.66      0.67     26160\n",
      "  weighted avg       0.72      0.72      0.71     26160\n",
      "\n",
      "accuracy: 0.7224770642201835\n"
     ]
    }
   ],
   "source": [
    "from sklearn.linear_model import LogisticRegression\n",
    "\n",
    "lr = LogisticRegression(penalty='l2', max_iter=100, C=1)\n",
    "classifier = lr.fit(X_train_tfidf, y_train)\n",
    "y_pred = classifier.predict(X_test_tfidf)\n",
    "print('confusion matrix:',confusion_matrix(y_test,y_pred))\n",
    "print('classification report:', classification_report(y_test,y_pred))\n",
    "print('accuracy:',accuracy_score(y_test, y_pred))"
   ]
  },
  {
   "cell_type": "markdown",
   "metadata": {},
   "source": [
    "## Stemming and Lemmatization\n",
    "Lets see if stemming and lemmatization helps - it should since it reduces the featureset and groups words that should have similar meaning"
   ]
  },
  {
   "cell_type": "code",
   "execution_count": 20,
   "metadata": {},
   "outputs": [],
   "source": [
    "# Stemming and tokenising and remove stopwords in same function\n",
    "from nltk.stem import PorterStemmer, WordNetLemmatizer\n",
    "# lemmetizer = WordNetLemmatizer()\n",
    "stop_words = set(stopwords.words('english'))\n",
    "def stem_text(rawsentence):\n",
    "    stemmer = PorterStemmer()\n",
    "    tokens = word_tokenize(rawsentence)\n",
    "    stemmed_tokens = [stemmer.stem(word) for word in tokens if word not in stop_words]\n",
    "    return stemmed_tokens"
   ]
  },
  {
   "cell_type": "code",
   "execution_count": 51,
   "metadata": {},
   "outputs": [
    {
     "data": {
      "text/plain": [
       "\"will smith joins diplo and nicky jam for the 2018 world cup's official song of course it has a song.\""
      ]
     },
     "execution_count": 51,
     "metadata": {},
     "output_type": "execute_result"
    }
   ],
   "source": [
    "X_train[1]"
   ]
  },
  {
   "cell_type": "code",
   "execution_count": 52,
   "metadata": {},
   "outputs": [],
   "source": [
    "# # Lemmatization\n",
    "# lemmatizer = WordNetLemmatizer()\n",
    "\n",
    "# text_lemmatized = []\n",
    "# for sentence in df[\"fulltext_processed\"]:\n",
    "#     stemmed_sent = ' '.join([lemmatizer.lemmatize(word) for word in sentence.split() if word not in stop_words])\n",
    "#     text_lemmatized.append(stemmed_sent)"
   ]
  },
  {
   "cell_type": "markdown",
   "metadata": {},
   "source": [
    "TFIDF\n",
    "- I have found it might be best to build tokeniser, stemming functions and enter the functions into the vectoriser to run for you. "
   ]
  },
  {
   "cell_type": "code",
   "execution_count": 19,
   "metadata": {},
   "outputs": [
    {
     "ename": "NameError",
     "evalue": "name 'stem_text' is not defined",
     "output_type": "error",
     "traceback": [
      "\u001b[1;31m---------------------------------------------------------------------------\u001b[0m",
      "\u001b[1;31mNameError\u001b[0m                                 Traceback (most recent call last)",
      "\u001b[1;32m<ipython-input-19-b3f07b66c9a0>\u001b[0m in \u001b[0;36m<module>\u001b[1;34m\u001b[0m\n\u001b[1;32m----> 1\u001b[1;33m \u001b[0mtfidf_converter\u001b[0m \u001b[1;33m=\u001b[0m \u001b[0mTfidfVectorizer\u001b[0m\u001b[1;33m(\u001b[0m\u001b[0mmax_features\u001b[0m\u001b[1;33m=\u001b[0m\u001b[1;36m1500\u001b[0m\u001b[1;33m,\u001b[0m\u001b[0mmin_df\u001b[0m\u001b[1;33m=\u001b[0m\u001b[1;36m5\u001b[0m\u001b[1;33m,\u001b[0m\u001b[0mmax_df\u001b[0m\u001b[1;33m=\u001b[0m\u001b[1;36m0.7\u001b[0m\u001b[1;33m,\u001b[0m \u001b[0mstop_words\u001b[0m\u001b[1;33m=\u001b[0m\u001b[1;32mNone\u001b[0m\u001b[1;33m,\u001b[0m\u001b[0mtokenizer\u001b[0m\u001b[1;33m=\u001b[0m\u001b[0mstem_text\u001b[0m\u001b[1;33m)\u001b[0m\u001b[1;33m\u001b[0m\u001b[1;33m\u001b[0m\u001b[0m\n\u001b[0m\u001b[0;32m      2\u001b[0m \u001b[0mX_train_tfidf\u001b[0m \u001b[1;33m=\u001b[0m \u001b[0mtfidf_converter\u001b[0m\u001b[1;33m.\u001b[0m\u001b[0mfit_transform\u001b[0m\u001b[1;33m(\u001b[0m\u001b[0mX_train\u001b[0m\u001b[1;33m)\u001b[0m\u001b[1;33m.\u001b[0m\u001b[0mtoarray\u001b[0m\u001b[1;33m(\u001b[0m\u001b[1;33m)\u001b[0m\u001b[1;33m\u001b[0m\u001b[1;33m\u001b[0m\u001b[0m\n\u001b[0;32m      3\u001b[0m \u001b[0mX_test_tfidf\u001b[0m \u001b[1;33m=\u001b[0m \u001b[0mtfidf_converter\u001b[0m\u001b[1;33m.\u001b[0m\u001b[0mtransform\u001b[0m\u001b[1;33m(\u001b[0m\u001b[0mX_test\u001b[0m\u001b[1;33m)\u001b[0m\u001b[1;33m.\u001b[0m\u001b[0mtoarray\u001b[0m\u001b[1;33m(\u001b[0m\u001b[1;33m)\u001b[0m \u001b[1;31m# don't use fit_transform, since we only want to fit on training set, but use the same vectoriser transform on the test\u001b[0m\u001b[1;33m\u001b[0m\u001b[1;33m\u001b[0m\u001b[0m\n",
      "\u001b[1;31mNameError\u001b[0m: name 'stem_text' is not defined"
     ]
    }
   ],
   "source": [
    "tfidf_converter = TfidfVectorizer(max_features=1500,min_df=5,max_df=0.7, stop_words=None,tokenizer=stem_text)\n",
    "X_train_tfidf = tfidf_converter.fit_transform(X_train)\n",
    "X_test_tfidf = tfidf_converter.transform(X_test) # don't use fit_transform, since we only want to fit on training set, but use the same vectoriser transform on the test"
   ]
  },
  {
   "cell_type": "code",
   "execution_count": 54,
   "metadata": {},
   "outputs": [
    {
     "name": "stdout",
     "output_type": "stream",
     "text": [
      "['!', '#', '$', '&', \"'\", \"''\", \"'d\", \"'ll\", \"'m\", \"'re\", \"'s\", \"'the\", \"'ve\", '(', ')', ',', '-', '--', '...', '1', '10', '100', '11', '12', '13', '14', '15', '16', '2', '20', '2012', '2013', '2014', '2015', '2016', '2017', '25', '3', '30', '4', '40', '5', '50', '6', '7', '8', '9', ':', ';', '?', '@', '[', ']', '``', 'abil', 'abl', 'abort', 'absolut', 'abus', 'accept', 'access', 'accord', 'account', 'accus', 'achiev', 'across', 'act', 'action', 'activ', 'activist', 'actor', 'actress', 'actual', 'ad', 'add', 'addict', 'address', 'administr', 'admit', 'adopt', 'ador', 'adult', 'advanc', 'adventur', 'advic', 'advis', 'advoc', 'affect', 'afford', 'africa', 'age', 'agenc', 'ago', 'agre', 'ahead', 'aid', 'aim', 'air', 'airlin', 'airport', 'album', 'alcohol', 'alleg', 'alli', 'allow', 'almost', 'alon', 'along', 'alreadi', 'also', 'altern', 'although', 'alway', 'amaz', 'america', 'american', 'amid', 'among', 'amount', 'angel', 'anim', 'anniversari', 'announc', 'annual', 'anoth', 'answer', 'anxieti', 'anyon', 'anyth', 'apolog', 'app', 'appar', 'appeal', 'appear', 'appl', 'approach', 'approv', 'april', 'area', 'arm', 'around', 'arrest', 'arriv', 'art', 'articl', 'artist', 'ask', 'assault', 'associ', 'athlet', 'attack', 'attempt', 'attend', 'attent', 'attorney', 'attract', 'author', 'autism', 'avoid', 'awar', 'award', 'away', 'awesom', 'babi', 'back', 'bad', 'bag', 'balanc', 'ban', 'band', 'bank', 'bar', 'base', 'basic', 'battl', 'beach', 'beat', 'beauti', 'becam', 'becom', 'bed', 'beer', 'began', 'begin', 'behavior', 'behind', 'believ', 'ben', 'benefit', 'berni', 'best', 'better', 'beyond', 'biden', 'big', 'biggest', 'bill', 'billion', 'birth', 'birthday', 'bit', 'black', 'blame', 'block', 'blog', 'blood', 'blue', 'board', 'bodi', 'bomb', 'book', 'boost', 'border', 'born', 'bowl', 'box', 'boy', 'brain', 'brand', 'break', 'breakfast', 'breast', 'breath', 'bring', 'british', 'brother', 'brought', 'brown', 'budget', 'build', 'bulli', 'burger', 'burn', 'bush', 'busi', 'buy', 'ca', 'cake', 'california', 'call', 'came', 'camp', 'campaign', 'cancer', 'candid', 'capit', 'car', 'card', 'care', 'career', 'carolina', 'carpet', 'carri', 'case', 'cast', 'catch', 'caught', 'caus', 'celebr', 'center', 'centuri', 'certain', 'certainli', 'challeng', 'chanc', 'chang', 'charact', 'charg', 'check', 'chees', 'chef', 'chicken', 'chief', 'child', 'childhood', 'children', 'china', 'chines', 'chocol', 'choic', 'choos', 'chri', 'christian', 'christma', 'citi', 'citizen', 'civil', 'claim', 'class', 'classic', 'clean', 'clear', 'click', 'climat', 'clinton', 'clip', 'close', 'cloth', 'club', 'coast', 'cocktail', 'coffe', 'cold', 'collect', 'colleg', 'color', 'come', 'comey', 'comfort', 'comment', 'commit', 'committe', 'common', 'commun', 'compani', 'compar', 'complet', 'concern', 'condit', 'confid', 'confirm', 'conflict', 'confus', 'congress', 'congressman', 'connect', 'conserv', 'consid', 'consum', 'continu', 'control', 'controversi', 'convent', 'convers', 'cook', 'cooki', 'cool', 'cost', 'costum', 'could', 'count', 'countri', 'coupl', 'cours', 'court', 'cover', 'crash', 'crazi', 'cream', 'creat', 'creativ', 'cri', 'crime', 'crimin', 'crisi', 'critic', 'crowd', 'cruis', 'cruz', 'cultur', 'current', 'cut', 'cute', 'dad', 'daili', 'damag', 'danc', 'danger', 'dark', 'data', 'date', 'daughter', 'david', 'day', 'de', 'dead', 'deadli', 'deal', 'dear', 'death', 'debat', 'debut', 'decad', 'decid', 'decis', 'declar', 'deep', 'defend', 'defens', 'defin', 'definit', 'delici', 'deliv', 'demand', 'democraci', 'democrat', 'deni', 'depart', 'depress', 'describ', 'deserv', 'design', 'despit', 'dessert', 'destin', 'detail', 'determin', 'develop', 'diabet', 'die', 'diet', 'differ', 'difficult', 'dinner', 'direct', 'director', 'discov', 'discrimin', 'discuss', 'diseas', 'dish', 'disney', 'disord', 'divers', 'doctor', 'dog', 'donald', 'done', 'door', 'doubt', 'dozen', 'dr.', 'drag', 'draw', 'dream', 'dress', 'drink', 'drive', 'drop', 'drug', 'due', 'earli', 'earlier', 'earth', 'easi', 'easier', 'east', 'eat', 'econom', 'economi', 'educ', 'effect', 'effort', 'egg', 'either', 'elect', 'elizabeth', 'els', 'email', 'embrac', 'emerg', 'emot', 'employe', 'encourag', 'end', 'endors', 'energi', 'engag', 'enjoy', 'enough', 'enter', 'entertain', 'entir', 'episod', 'equal', 'especi', 'essenti', 'europ', 'european', 'even', 'event', 'ever', 'everi', 'everyon', 'everyth', 'evid', 'evolut', 'exactli', 'except', 'excit', 'exclus', 'execut', 'exercis', 'exist', 'expand', 'expect', 'experi', 'experienc', 'expert', 'explain', 'explor', 'express', 'extra', 'extrem', 'eye', 'face', 'facebook', 'fact', 'fail', 'failur', 'fair', 'fall', 'famili', 'famou', 'fan', 'far', 'fashion', 'fast', 'fat', 'father', 'favorit', 'fbi', 'fear', 'featur', 'feder', 'feel', 'felt', 'femal', 'festiv', 'field', 'fight', 'figur', 'fill', 'film', 'final', 'financi', 'find', 'fine', 'fire', 'first', 'fit', 'five', 'fix', 'flavor', 'fli', 'flight', 'florida', 'focu', 'focus', 'follow', 'food', 'forc', 'foreign', 'forev', 'forget', 'form', 'former', 'forward', 'found', 'four', 'fox', 'franc', 'free', 'freedom', 'french', 'fresh', 'friday', 'friend', 'front', 'fruit', 'full', 'fun', 'fund', 'futur', 'gain', 'game', 'gave', 'gay', 'gender', 'gener', 'georg', 'get', 'gift', 'girl', 'give', 'given', 'global', 'globe', 'go', 'goal', 'god', 'goe', 'gold', 'golden', 'gone', 'good', 'gop', 'got', 'govern', 'governor', 'gp', 'grace', 'grand', 'great', 'greatest', 'green', 'grill', 'ground', 'group', 'grow', 'guest', 'guid', 'gun', 'guy', 'habit', 'hair', 'half', 'halloween', 'hand', 'handl', 'happen', 'happi', 'harass', 'hard', 'harm', 'harri', 'hate', 'head', 'heal', 'health', 'healthi', 'healthier', 'hear', 'heard', 'heart', 'heat', 'held', 'help', 'hero', 'high', 'higher', 'highlight', 'hilari', 'hill', 'hillari', 'histor', 'histori', 'hit', 'hold', 'holiday', 'hollywood', 'home', 'honor', 'hope', 'hospit', 'host', 'hot', 'hotel', 'hour', 'hous', 'howev', 'huffpost', 'huffpoststyl', 'huge', 'human', 'hundr', 'hurt', 'husband', 'ice', 'icon', 'idea', 'identifi', 'ignor', 'ill', 'imag', 'imagin', 'immedi', 'immigr', 'impact', 'import', 'impress', 'improv', 'includ', 'increas', 'incred', 'independ', 'individu', 'industri', 'influenc', 'inform', 'ingredi', 'initi', 'injuri', 'inner', 'insid', 'inspir', 'instagram', 'instead', 'insur', 'intellig', 'intent', 'interest', 'intern', 'internet', 'interview', 'investig', 'invit', 'involv', 'iowa', 'iran', 'iraq', 'isi', 'islam', 'island', 'israel', 'issu', 'italian', 'item', 'jame', 'jeb', 'jeff', 'jenner', 'jennif', 'jessica', 'jimmi', 'job', 'joe', 'john', 'johnson', 'join', 'joke', 'journal', 'journey', 'joy', 'judg', 'juli', 'june', 'justic', 'justin', 'kany', 'kardashian', 'kate', 'kati', 'keep', 'kelli', 'key', 'kick', 'kid', 'kill', 'kim', 'kind', 'king', 'kitchen', 'knew', 'know', 'known', 'korea', 'la', 'label', 'labor', 'lack', 'ladi', 'land', 'larg', 'last', 'late', 'later', 'latest', 'laugh', 'launch', 'law', 'lawmak', 'lawsuit', 'lawyer', 'lead', 'leader', 'learn', 'least', 'leav', 'left', 'legaci', 'legal', 'legisl', 'lesbian', 'less', 'lesson', 'let', 'letter', 'level', 'lgbt', 'lgbtq', 'lie', 'life', 'lifestyl', 'light', 'like', 'limit', 'line', 'link', 'list', 'listen', 'littl', 'live', 'local', 'london', 'long', 'longer', 'look', 'lose', 'loss', 'lost', 'lot', 'love', 'low', 'lower', 'lunch', 'made', 'magazin', 'magic', 'main', 'major', 'make', 'makeup', 'man', 'manag', 'mani', 'march', 'marco', 'marijuana', 'mark', 'market', 'marri', 'marriag', 'mass', 'matter', 'may', 'mayb', 'mayor', 'meal', 'mean', 'measur', 'meat', 'media', 'medic', 'medicin', 'medit', 'meet', 'member', 'memori', 'men', 'mental', 'mess', 'messag', 'met', 'mexico', 'michael', 'michel', 'middl', 'middleton', 'might', 'mike', 'mile', 'miley', 'militari', 'million', 'mind', 'minist', 'minor', 'minut', 'miss', 'mistak', 'mix', 'model', 'modern', 'mom', 'moment', 'monday', 'money', 'month', 'moor', 'morn', 'mother', 'motiv', 'mountain', 'move', 'movement', 'movi', 'much', 'murder', 'music', 'muslim', 'must', 'myth', \"n't\", 'nail', 'name', 'nation', 'natur', 'near', 'nearli', 'need', 'neg', 'netflix', 'network', 'never', 'new', 'news', 'next', 'nice', 'night', 'nomin', 'nomine', 'normal', 'north', 'note', 'noth', 'notic', 'novemb', 'nuclear', 'number', 'nutrit', 'obama', 'obamacar', 'obes', 'offer', 'offic', 'offici', 'often', 'oh', 'oil', 'ok', 'old', 'older', 'olymp', 'one', 'onlin', 'open', 'oper', 'opinion', 'opportun', 'opposit', 'option', 'order', 'organ', 'origin', 'oscar', 'other', 'outfit', 'outsid', 'pack', 'pain', 'pair', 'parent', 'parenthood', 'pari', 'park', 'part', 'parti', 'particip', 'partner', 'pass', 'passion', 'past', 'path', 'patient', 'paul', 'pay', 'peac', 'peopl', 'percent', 'perfect', 'perform', 'perhap', 'perri', 'person', 'pet', 'phone', 'photo', 'photograph', 'physic', 'pick', 'pictur', 'piec', 'pinterest', 'place', 'plan', 'plane', 'play', 'pleas', 'plenti', 'point', 'polic', 'polici', 'polit', 'politician', 'poll', 'poor', 'pop', 'popul', 'popular', 'pose', 'posit', 'possibl', 'post', 'potenti', 'pound', 'power', 'practic', 'predict', 'pregnanc', 'pregnant', 'premier', 'prepar', 'present', 'presid', 'presidenti', 'press', 'pressur', 'pretti', 'prevent', 'price', 'pride', 'primari', 'prime', 'princ', 'princess', 'prison', 'privat', 'probabl', 'probe', 'problem', 'process', 'produc', 'product', 'profession', 'program', 'progress', 'project', 'promis', 'promot', 'propos', 'protect', 'protest', 'prove', 'provid', 'public', 'publish', 'pull', 'purpos', 'push', 'put', 'putin', 'qualiti', 'queen', 'queer', 'question', 'quick', 'quickli', 'quit', 'race', 'rais', 'ralli', 'rare', 'rate', 'rather', 'reach', 'read', 'readi', 'real', 'realiti', 'realiz', 'realli', 'reason', 'receiv', 'recent', 'recip', 'recogn', 'recommend', 'record', 'red', 'reduc', 'reflect', 'reform', 'refuge', 'refus', 'region', 'reject', 'relat', 'relationship', 'relax', 'releas', 'religi', 'remain', 'rememb', 'remind', 'remov', 'rep.', 'repeal', 'replac', 'report', 'reportedli', 'repres', 'republican', 'requir', 'research', 'resid', 'resign', 'resist', 'resolut', 'resort', 'respect', 'respond', 'respons', 'rest', 'restaur', 'result', 'return', 'reuter', 'reveal', 'review', 'rich', 'ride', 'right', 'rise', 'risk', 'road', 'robert', 'rock', 'role', 'roll', 'room', 'round', 'roundup', 'routin', 'royal', 'rubio', 'rule', 'run', 'russia', 'russian', 'ryan', 'sad', 'safe', 'safeti', 'said', 'salad', 'sale', 'san', 'sander', 'saturday', 'saudi', 'save', 'saw', 'say', 'scare', 'scene', 'school', 'scienc', 'scientist', 'scott', 'screen', 'sea', 'search', 'season', 'seat', 'second', 'secret', 'secretari', 'secur', 'see', 'seek', 'seem', 'seen', 'self', 'sell', 'sen.', 'senat', 'send', 'sens', 'seri', 'seriou', 'serious', 'serv', 'servic', 'session', 'set', 'seven', 'sever', 'sex', 'sexual', 'shame', 'shape', 'share', 'shift', 'shock', 'shoe', 'shoot', 'shop', 'short', 'shot', 'show', 'sick', 'side', 'sign', 'silenc', 'similar', 'simpl', 'simpli', 'sinc', 'sing', 'singer', 'singl', 'sister', 'sit', 'site', 'situat', 'six', 'size', 'skin', 'slam', 'sleep', 'slow', 'small', 'smile', 'smoke', 'snack', 'social', 'societi', 'solut', 'someon', 'someth', 'sometim', 'son', 'song', 'soon', 'soul', 'sound', 'sourc', 'south', 'space', 'speak', 'special', 'specif', 'speech', 'spend', 'spent', 'spirit', 'spiritu', 'sport', 'spot', 'spread', 'spring', 'st.', 'staff', 'stage', 'stand', 'standard', 'star', 'start', 'state', 'statement', 'statu', 'stay', 'step', 'steve', 'stick', 'still', 'stop', 'store', 'stori', 'straight', 'strategi', 'street', 'stress', 'strike', 'strong', 'struggl', 'student', 'studi', 'stuff', 'stun', 'style', 'stylelist', 'success', 'suffer', 'sugar', 'suggest', 'suicid', 'suit', 'summer', 'sun', 'sunday', 'super', 'support', 'suprem', 'sure', 'surgeri', 'surpris', 'survey', 'surviv', 'suspect', 'sweet', 'swift', 'syria', 'syrian', 'system', 'tabl', 'take', 'taken', 'talk', 'target', 'tast', 'taught', 'tax', 'taylor', 'teach', 'teacher', 'team', 'tear', 'technolog', 'ted', 'teen', 'teenag', 'tell', 'term', 'terror', 'test', 'texa', 'thank', 'thanksgiv', 'therapi', 'thing', 'think', 'third', 'though', 'thought', 'thousand', 'threat', 'threaten', 'three', 'throne', 'throughout', 'throw', 'thursday', 'tie', 'time', 'tip', 'today', 'toddler', 'togeth', 'told', 'tom', 'took', 'tool', 'top', 'total', 'touch', 'tough', 'tour', 'tourist', 'toward', 'town', 'toy', 'track', 'trade', 'tradit', 'trailer', 'train', 'tran', 'transform', 'transgend', 'travel', 'treat', 'treatment', 'tree', 'trend', 'tri', 'trial', 'tribut', 'trick', 'trip', 'troubl', 'true', 'truli', 'trump', 'trust', 'truth', 'tuesday', 'tumblr', 'turkey', 'turn', 'tv', 'tweet', 'twitter', 'two', 'type', 'u.s.', 'ultim', 'un', 'understand', 'union', 'uniqu', 'unit', 'univers', 'updat', 'upon', 'urg', 'us', 'use', 'usual', 'vacat', 'valentin', 'valu', 'veget', 'version', 'veteran', 'victim', 'victori', 'video', 'view', 'vintag', 'violenc', 'visit', 'vogu', 'voic', 'vote', 'voter', 'vs.', 'wait', 'wake', 'walk', 'wall', 'want', 'war', 'warm', 'warn', 'warren', 'washington', 'watch', 'water', 'way', 'weapon', 'wear', 'weather', 'wed', 'wednesday', 'week', 'weekend', 'weekli', 'weight', 'welcom', 'well', 'well-b', 'went', 'west', 'whatev', 'whether', 'white', 'whole', 'whose', 'wife', 'wild', 'william', 'win', 'wine', 'winner', 'winter', 'wish', 'within', 'without', 'wo', 'woman', 'women', 'wonder', 'word', 'work', 'worker', 'workout', 'world', 'worri', 'wors', 'worst', 'worth', 'would', 'write', 'writer', 'wrong', 'wrote', 'ye', 'year', 'yet', 'yoga', 'york', 'young', 'youth', '—', '‘', '’', '“', '”']\n"
     ]
    }
   ],
   "source": [
    "print(tfidf_converter.get_feature_names())"
   ]
  },
  {
   "cell_type": "code",
   "execution_count": 55,
   "metadata": {},
   "outputs": [
    {
     "name": "stdout",
     "output_type": "stream",
     "text": [
      "confusion matrix: [[2225   28    1  119  515   14  131   47  117   12]\n",
      " [  56 1118    0   45   58    1   56   96  210    1]\n",
      " [  44   36   25   89  191    6   14   25  940   12]\n",
      " [ 157   31    2 1679  126    5   61   55  347    2]\n",
      " [ 125    7    5   65 5945   17   22   33  160  147]\n",
      " [ 197    6    1   86  296  547   24   23   83    9]\n",
      " [ 152   38    0   75   98    8 1803   52  175    2]\n",
      " [  90   76    1   50  139    2   76 1427  141   23]\n",
      " [  76   85    6  165  211    3   36   58 2962   22]\n",
      " [  52    2    1   22  702    4   14   42   76  698]]\n",
      "classification report:                 precision    recall  f1-score   support\n",
      "\n",
      " ENTERTAINMENT       0.70      0.69      0.70      3209\n",
      "  FOOD & DRINK       0.78      0.68      0.73      1641\n",
      "HEALTHY LIVING       0.60      0.02      0.04      1382\n",
      "     PARENTING       0.70      0.68      0.69      2465\n",
      "      POLITICS       0.72      0.91      0.80      6526\n",
      "  QUEER VOICES       0.90      0.43      0.58      1272\n",
      "STYLE & BEAUTY       0.81      0.75      0.78      2403\n",
      "        TRAVEL       0.77      0.70      0.73      2025\n",
      "      WELLNESS       0.57      0.82      0.67      3624\n",
      "    WORLD NEWS       0.75      0.43      0.55      1613\n",
      "\n",
      "      accuracy                           0.70     26160\n",
      "     macro avg       0.73      0.61      0.63     26160\n",
      "  weighted avg       0.71      0.70      0.68     26160\n",
      "\n",
      "accuracy: 0.7044724770642202\n"
     ]
    }
   ],
   "source": [
    "classifier = MultinomialNB().fit(X_train_tfidf, y_train)\n",
    "y_pred = classifier.predict(X_test_tfidf)\n",
    "print('confusion matrix:',confusion_matrix(y_test,y_pred))\n",
    "print('classification report:', classification_report(y_test,y_pred))\n",
    "print('accuracy:',accuracy_score(y_test, y_pred))"
   ]
  },
  {
   "cell_type": "code",
   "execution_count": 84,
   "metadata": {},
   "outputs": [],
   "source": [
    "# Write Model Function\n",
    "def build_model(classifier, X,y, X_test, y_test):\n",
    "    classifier.fit(X, y)\n",
    "    y_pred = classifier.predict(X_test)\n",
    "    return accuracy_score(y_test, y_pred),confusion_matrix(y_test,y_pred),classification_report(y_test,y_pred), y_pred"
   ]
  },
  {
   "cell_type": "code",
   "execution_count": 90,
   "metadata": {},
   "outputs": [
    {
     "name": "stdout",
     "output_type": "stream",
     "text": [
      "0.7451070336391438\n",
      "0.7044724770642202\n"
     ]
    },
    {
     "name": "stderr",
     "output_type": "stream",
     "text": [
      "C:\\Users\\martin.cheung\\AppData\\Local\\Continuum\\anaconda3\\lib\\site-packages\\sklearn\\linear_model\\logistic.py:432: FutureWarning: Default solver will be changed to 'lbfgs' in 0.22. Specify a solver to silence this warning.\n",
      "  FutureWarning)\n",
      "C:\\Users\\martin.cheung\\AppData\\Local\\Continuum\\anaconda3\\lib\\site-packages\\sklearn\\linear_model\\logistic.py:469: FutureWarning: Default multi_class will be changed to 'auto' in 0.22. Specify the multi_class option to silence this warning.\n",
      "  \"this warning.\", FutureWarning)\n"
     ]
    },
    {
     "name": "stdout",
     "output_type": "stream",
     "text": [
      "0.7449923547400612\n"
     ]
    }
   ],
   "source": [
    "acc_svm,cm_svm,report_svm,_ = build_model(LinearSVC(), X_train_tfidf,y_train,X_test_tfidf,y_test)\n",
    "print(acc_svm)\n",
    "acc_naivebayes,cm_naivebayes,report_naivebayes,_ = build_model(MultinomialNB(), X_train_tfidf,y_train,X_test_tfidf,y_test)\n",
    "print(acc_naivebayes)\n",
    "acc_logistic,cm_logistic,report_logistic,_ = build_model(LogisticRegression(penalty='l2', max_iter=100, C=1), X_train_tfidf,y_train,X_test_tfidf,y_test)\n",
    "print(acc_logistic)"
   ]
  },
  {
   "cell_type": "code",
   "execution_count": 91,
   "metadata": {},
   "outputs": [
    {
     "data": {
      "text/plain": [
       "<matplotlib.axes._subplots.AxesSubplot at 0x26070066d68>"
      ]
     },
     "execution_count": 91,
     "metadata": {},
     "output_type": "execute_result"
    },
    {
     "data": {
      "image/png": "[encoded data removed]",
      "text/plain": [
       "<Figure size 720x504 with 2 Axes>"
      ]
     },
     "metadata": {
      "needs_background": "light"
     },
     "output_type": "display_data"
    }
   ],
   "source": [
    "import seaborn as sn\n",
    "import pandas as pd\n",
    "import matplotlib.pyplot as plt\n",
    "\n",
    "df_cm = pd.DataFrame(cm_svm, index = [i for i in sorted(set(y_test))],\n",
    "                  columns = [i for i in sorted(set(y_test))])\n",
    "plt.figure(figsize = (10,7))\n",
    "sn.heatmap(df_cm, annot=True,cmap=\"Blues\",fmt='g')"
   ]
  },
  {
   "cell_type": "code",
   "execution_count": 92,
   "metadata": {},
   "outputs": [
    {
     "name": "stdout",
     "output_type": "stream",
     "text": [
      "                precision    recall  f1-score   support\n",
      "\n",
      " ENTERTAINMENT       0.71      0.74      0.72      3209\n",
      "  FOOD & DRINK       0.75      0.76      0.76      1641\n",
      "HEALTHY LIVING       0.52      0.16      0.25      1382\n",
      "     PARENTING       0.75      0.75      0.75      2465\n",
      "      POLITICS       0.81      0.87      0.84      6526\n",
      "  QUEER VOICES       0.86      0.61      0.72      1272\n",
      "STYLE & BEAUTY       0.81      0.80      0.81      2403\n",
      "        TRAVEL       0.75      0.74      0.75      2025\n",
      "      WELLNESS       0.65      0.81      0.72      3624\n",
      "    WORLD NEWS       0.68      0.60      0.64      1613\n",
      "\n",
      "      accuracy                           0.75     26160\n",
      "     macro avg       0.73      0.68      0.69     26160\n",
      "  weighted avg       0.74      0.75      0.73     26160\n",
      "\n"
     ]
    }
   ],
   "source": [
    "print(report_svm)"
   ]
  },
  {
   "cell_type": "markdown",
   "metadata": {},
   "source": [
    "A few observations about the prediction results:\n",
    "- the model not performing on healthy living, but is getting mostly confused with WELLNESS. Which makes sense, probably these can be grouped together\n",
    "- World news can also be confused with politics sometimes\n",
    "- on the most part pretty solid performance, but perhaps need more examples for the smaller categories"
   ]
  },
  {
   "cell_type": "markdown",
   "metadata": {},
   "source": [
    "### Next Try n-grams: 1-word and 2-word phrases"
   ]
  },
  {
   "cell_type": "code",
   "execution_count": 31,
   "metadata": {},
   "outputs": [],
   "source": [
    "import re, string\n",
    "re_tok = re.compile(f'([{string.punctuation}“”¨«»®´·º½¾¿¡§£₤‘’])')\n",
    "def tokenize(s): return re_tok.sub(r' \\1 ', s).split()\n"
   ]
  },
  {
   "cell_type": "code",
   "execution_count": 33,
   "metadata": {},
   "outputs": [],
   "source": [
    "tfidf_converter = TfidfVectorizer(min_df=3, max_df=0.9, strip_accents='unicode',tokenizer=tokenize,ngram_range=(1,2),sublinear_tf=1)\n",
    "X_train_tfidf = tfidf_converter.fit_transform(X_train)\n",
    "X_test_tfidf = tfidf_converter.transform(X_test) # don't use fit_transform, since we only want to fit on training set, but use the same vectoriser transform on the test"
   ]
  },
  {
   "cell_type": "markdown",
   "metadata": {},
   "source": [
    "### Next Try n-grams: 1-word and 2-word phrases"
   ]
  },
  {
   "cell_type": "code",
   "execution_count": 34,
   "metadata": {},
   "outputs": [],
   "source": [
    "# Write Model Function\n",
    "def build_model(classifier, X,y, X_test, y_test):\n",
    "    classifier.fit(X, y)\n",
    "    y_pred = classifier.predict(X_test)\n",
    "    return accuracy_score(y_test, y_pred),confusion_matrix(y_test,y_pred),classification_report(y_test,y_pred), y_pred"
   ]
  },
  {
   "cell_type": "code",
   "execution_count": 35,
   "metadata": {},
   "outputs": [
    {
     "name": "stdout",
     "output_type": "stream",
     "text": [
      "0.8140290519877675\n",
      "0.6540137614678899\n"
     ]
    },
    {
     "name": "stderr",
     "output_type": "stream",
     "text": [
      "C:\\Users\\martin.cheung\\AppData\\Local\\Continuum\\anaconda3\\lib\\site-packages\\sklearn\\linear_model\\logistic.py:432: FutureWarning: Default solver will be changed to 'lbfgs' in 0.22. Specify a solver to silence this warning.\n",
      "  FutureWarning)\n",
      "C:\\Users\\martin.cheung\\AppData\\Local\\Continuum\\anaconda3\\lib\\site-packages\\sklearn\\linear_model\\logistic.py:469: FutureWarning: Default multi_class will be changed to 'auto' in 0.22. Specify the multi_class option to silence this warning.\n",
      "  \"this warning.\", FutureWarning)\n"
     ]
    },
    {
     "name": "stdout",
     "output_type": "stream",
     "text": [
      "0.7941896024464832\n"
     ]
    }
   ],
   "source": [
    "acc_svm,cm_svm,report_svm,_ = build_model(LinearSVC(), X_train_tfidf,y_train,X_test_tfidf,y_test)\n",
    "print(acc_svm)\n",
    "acc_naivebayes,cm_naivebayes,report_naivebayes,_ = build_model(MultinomialNB(), X_train_tfidf,y_train,X_test_tfidf,y_test)\n",
    "print(acc_naivebayes)\n",
    "acc_logistic,cm_logistic,report_logistic,_ = build_model(LogisticRegression(penalty='l2', max_iter=100, C=1), X_train_tfidf,y_train,X_test_tfidf,y_test)\n",
    "print(acc_logistic)"
   ]
  },
  {
   "cell_type": "code",
   "execution_count": 39,
   "metadata": {},
   "outputs": [
    {
     "name": "stdout",
     "output_type": "stream",
     "text": [
      "0.8125764525993884\n"
     ]
    }
   ],
   "source": [
    "acc_logistic,cm_logistic,report_logistic,_ = build_model(LogisticRegression(penalty='l2',C=4), X_train_tfidf,y_train,X_test_tfidf,y_test)\n",
    "print(acc_logistic)"
   ]
  },
  {
   "cell_type": "markdown",
   "metadata": {},
   "source": [
    "### Conclusion\n",
    "- Funny how just a little more cleaning and data processing makes so much difference. And there are probably even more ways of preprocessing my data that could improve performance even more!\n",
    "- Further work:\n",
    "    - experiment with different featureset sizes\n",
    "    - experiment with n-grams? Some research says bi-grams can improve performance (sklearn allows us to use both unigrams and bigrams together off the shelf)"
   ]
  },
  {
   "cell_type": "code",
   "execution_count": null,
   "metadata": {},
   "outputs": [],
   "source": []
  }
 ],
 "metadata": {
  "kernelspec": {
   "display_name": "Python 3",
   "language": "python",
   "name": "python3"
  },
  "language_info": {
   "codemirror_mode": {
    "name": "ipython",
    "version": 3
   },
   "file_extension": ".py",
   "mimetype": "text/x-python",
   "name": "python",
   "nbconvert_exporter": "python",
   "pygments_lexer": "ipython3",
   "version": "3.7.3"
  }
 },
 "nbformat": 4,
 "nbformat_minor": 2
}
